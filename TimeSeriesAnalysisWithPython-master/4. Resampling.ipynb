{
 "cells": [
  {
   "cell_type": "code",
   "execution_count": 1,
   "metadata": {
    "collapsed": true
   },
   "outputs": [],
   "source": [
    "import pandas as pd\n",
    "import numpy as np\n",
    "import matplotlib.pyplot as plt\n",
    "%matplotlib inline\n",
    "\n",
    "from IPython.core.interactiveshell import InteractiveShell\n",
    "InteractiveShell.ast_node_interactivity = \"all\""
   ]
  },
  {
   "cell_type": "code",
   "execution_count": 15,
   "metadata": {
    "collapsed": true
   },
   "outputs": [],
   "source": [
    "rng = pd.date_range('1/1/2011', periods=72, freq='H')\n",
    "ts = pd.Series(list(range(len(rng))), index=rng)"
   ]
  },
  {
   "cell_type": "code",
   "execution_count": 16,
   "metadata": {},
   "outputs": [
    {
     "data": {
      "text/plain": [
       "2011-01-01 00:00:00    0\n",
       "2011-01-01 01:00:00    1\n",
       "2011-01-01 02:00:00    2\n",
       "2011-01-01 03:00:00    3\n",
       "2011-01-01 04:00:00    4\n",
       "2011-01-01 05:00:00    5\n",
       "2011-01-01 06:00:00    6\n",
       "2011-01-01 07:00:00    7\n",
       "Freq: H, dtype: int64"
      ]
     },
     "execution_count": 16,
     "metadata": {},
     "output_type": "execute_result"
    }
   ],
   "source": [
    "ts.head(8)"
   ]
  },
  {
   "cell_type": "code",
   "execution_count": 17,
   "metadata": {
    "collapsed": true
   },
   "outputs": [],
   "source": [
    "converted = ts.asfreq('45Min', method='pad')"
   ]
  },
  {
   "cell_type": "code",
   "execution_count": 18,
   "metadata": {},
   "outputs": [
    {
     "data": {
      "text/plain": [
       "2011-01-01 00:00:00    0\n",
       "2011-01-01 00:45:00    0\n",
       "2011-01-01 01:30:00    1\n",
       "2011-01-01 02:15:00    2\n",
       "2011-01-01 03:00:00    3\n",
       "2011-01-01 03:45:00    3\n",
       "2011-01-01 04:30:00    4\n",
       "2011-01-01 05:15:00    5\n",
       "Freq: 45T, dtype: int64"
      ]
     },
     "execution_count": 18,
     "metadata": {},
     "output_type": "execute_result"
    }
   ],
   "source": [
    "converted.head(8)"
   ]
  },
  {
   "cell_type": "code",
   "execution_count": 19,
   "metadata": {
    "collapsed": true
   },
   "outputs": [],
   "source": [
    "# Does asfreq change the # of rows?"
   ]
  },
  {
   "cell_type": "code",
   "execution_count": 20,
   "metadata": {},
   "outputs": [
    {
     "data": {
      "text/plain": [
       "(72,)"
      ]
     },
     "execution_count": 20,
     "metadata": {},
     "output_type": "execute_result"
    },
    {
     "data": {
      "text/plain": [
       "(95,)"
      ]
     },
     "execution_count": 20,
     "metadata": {},
     "output_type": "execute_result"
    }
   ],
   "source": [
    "ts.shape\n",
    "converted.shape"
   ]
  },
  {
   "cell_type": "code",
   "execution_count": 21,
   "metadata": {
    "collapsed": true
   },
   "outputs": [],
   "source": [
    "# What do the different methods do?\n",
    "# method : {‘backfill’, ‘bfill’, ‘pad’, ‘ffill’, None}\n",
    "\n",
    "# backfill and bfill are the same\n",
    "# pad and ffill are the same\n",
    "# None means fill with NaN"
   ]
  },
  {
   "cell_type": "code",
   "execution_count": 22,
   "metadata": {
    "collapsed": true
   },
   "outputs": [],
   "source": [
    "# Might any of these methods have pitfalls from a logical point of view?"
   ]
  },
  {
   "cell_type": "code",
   "execution_count": 23,
   "metadata": {
    "collapsed": true
   },
   "outputs": [],
   "source": [
    "# What's the difference between going to a higher frequency and a lower frequency?"
   ]
  },
  {
   "cell_type": "code",
   "execution_count": 24,
   "metadata": {
    "collapsed": true
   },
   "outputs": [],
   "source": [
    "converted = ts.asfreq('90Min', method = 'bfill')"
   ]
  },
  {
   "cell_type": "code",
   "execution_count": 26,
   "metadata": {},
   "outputs": [
    {
     "data": {
      "text/plain": [
       "2011-01-01 00:00:00     0\n",
       "2011-01-01 01:30:00     2\n",
       "2011-01-01 03:00:00     3\n",
       "2011-01-01 04:30:00     5\n",
       "2011-01-01 06:00:00     6\n",
       "2011-01-01 07:30:00     8\n",
       "2011-01-01 09:00:00     9\n",
       "2011-01-01 10:30:00    11\n",
       "Freq: 90T, dtype: int64"
      ]
     },
     "execution_count": 26,
     "metadata": {},
     "output_type": "execute_result"
    }
   ],
   "source": [
    "converted.head(8)"
   ]
  },
  {
   "cell_type": "code",
   "execution_count": null,
   "metadata": {
    "collapsed": true
   },
   "outputs": [],
   "source": [
    "# What's different logically about going to a higher frequency vs a lower frequency?\n",
    "# What do you want to do when switching to a lower freqeuncy that is not logical when switching to a higher frequency?\n",
    "\n",
    "# lower frequency skips rows in the series, values still align -- higher frequency requires filling new rows with values or NAs"
   ]
  },
  {
   "cell_type": "code",
   "execution_count": 29,
   "metadata": {},
   "outputs": [
    {
     "data": {
      "text/plain": [
       "2011-01-01 02:00:00     2.5\n",
       "2011-01-01 04:00:00     4.5\n",
       "2011-01-01 06:00:00     6.5\n",
       "2011-01-01 08:00:00     8.5\n",
       "2011-01-01 10:00:00    10.5\n",
       "2011-01-01 12:00:00    12.5\n",
       "2011-01-01 14:00:00    14.5\n",
       "2011-01-01 16:00:00    16.5\n",
       "2011-01-01 18:00:00    18.5\n",
       "Freq: 2H, dtype: float64"
      ]
     },
     "execution_count": 29,
     "metadata": {},
     "output_type": "execute_result"
    }
   ],
   "source": [
    "ts.resample('2H').mean()[1:10]"
   ]
  },
  {
   "cell_type": "code",
   "execution_count": null,
   "metadata": {
    "collapsed": true
   },
   "outputs": [],
   "source": [
    "# What if you want to downsample and you don't want to ffill or bfill?\n",
    "\n",
    "# fill with None"
   ]
  },
  {
   "cell_type": "code",
   "execution_count": null,
   "metadata": {
    "collapsed": true
   },
   "outputs": [],
   "source": [
    "# What is the difference between .resample() and .asfreq()?\n",
    "\n",
    "# asfreq drops data, resample keeps that data and averages the values from the included ranges"
   ]
  },
  {
   "cell_type": "code",
   "execution_count": null,
   "metadata": {
    "collapsed": true
   },
   "outputs": [],
   "source": [
    "# What are some special things you can do with .resample() you can't do with .asfreq()?\n",
    "\n",
    "# irregular time series"
   ]
  },
  {
   "cell_type": "code",
   "execution_count": 35,
   "metadata": {
    "collapsed": true
   },
   "outputs": [],
   "source": [
    "irreg_ts = ts[list(np.random.choice(a = list(range(len(ts))), size = 10, replace=False))]"
   ]
  },
  {
   "cell_type": "code",
   "execution_count": 36,
   "metadata": {},
   "outputs": [
    {
     "data": {
      "text/plain": [
       "2011-01-02 23:00:00    47\n",
       "2011-01-01 22:00:00    22\n",
       "2011-01-01 07:00:00     7\n",
       "2011-01-01 17:00:00    17\n",
       "2011-01-01 21:00:00    21\n",
       "2011-01-03 18:00:00    66\n",
       "2011-01-03 19:00:00    67\n",
       "2011-01-02 13:00:00    37\n",
       "2011-01-02 01:00:00    25\n",
       "2011-01-03 08:00:00    56\n",
       "dtype: int64"
      ]
     },
     "execution_count": 36,
     "metadata": {},
     "output_type": "execute_result"
    }
   ],
   "source": [
    "irreg_ts"
   ]
  },
  {
   "cell_type": "code",
   "execution_count": 39,
   "metadata": {},
   "outputs": [
    {
     "data": {
      "text/plain": [
       "2011-01-02 23:00:00    47\n",
       "Freq: D, dtype: int64"
      ]
     },
     "execution_count": 39,
     "metadata": {},
     "output_type": "execute_result"
    }
   ],
   "source": [
    "irreg_ts = irreg_ts.asfreq('D')\n",
    "irreg_ts"
   ]
  },
  {
   "cell_type": "code",
   "execution_count": 42,
   "metadata": {},
   "outputs": [
    {
     "data": {
      "text/plain": [
       "47"
      ]
     },
     "execution_count": 42,
     "metadata": {},
     "output_type": "execute_result"
    }
   ],
   "source": [
    "irreg_ts = irreg_ts.asfreq('D').sum()\n",
    "irreg_ts"
   ]
  },
  {
   "cell_type": "code",
   "execution_count": 43,
   "metadata": {
    "collapsed": true
   },
   "outputs": [],
   "source": [
    "rng = pd.date_range('1/1/2011', periods=72, freq='H')\n",
    "ts = pd.Series(list(range(len(rng))), index=rng)"
   ]
  },
  {
   "cell_type": "code",
   "execution_count": 44,
   "metadata": {
    "collapsed": true
   },
   "outputs": [],
   "source": [
    "irreg_ts = ts[list(np.random.choice(a = list(range(len(ts))), size = 10, replace=False))]\n",
    "irreg_ts = irreg_ts.sort_index()"
   ]
  },
  {
   "cell_type": "code",
   "execution_count": 45,
   "metadata": {},
   "outputs": [
    {
     "data": {
      "text/plain": [
       "2011-01-01 01:00:00     1\n",
       "2011-01-01 05:00:00     5\n",
       "2011-01-01 15:00:00    15\n",
       "2011-01-01 22:00:00    22\n",
       "2011-01-02 16:00:00    40\n",
       "2011-01-03 01:00:00    49\n",
       "2011-01-03 08:00:00    56\n",
       "2011-01-03 14:00:00    62\n",
       "2011-01-03 17:00:00    65\n",
       "2011-01-03 21:00:00    69\n",
       "dtype: int64"
      ]
     },
     "execution_count": 45,
     "metadata": {},
     "output_type": "execute_result"
    }
   ],
   "source": [
    "irreg_ts"
   ]
  },
  {
   "cell_type": "code",
   "execution_count": 51,
   "metadata": {},
   "outputs": [
    {
     "data": {
      "text/plain": [
       "2011-01-01 01:00:00     1.0\n",
       "2011-01-01 02:00:00     1.0\n",
       "2011-01-01 03:00:00     1.0\n",
       "2011-01-01 04:00:00     1.0\n",
       "2011-01-01 05:00:00     5.0\n",
       "2011-01-01 06:00:00     5.0\n",
       "2011-01-01 07:00:00     5.0\n",
       "2011-01-01 08:00:00     5.0\n",
       "2011-01-01 09:00:00     NaN\n",
       "2011-01-01 10:00:00     NaN\n",
       "2011-01-01 11:00:00     NaN\n",
       "2011-01-01 12:00:00     NaN\n",
       "2011-01-01 13:00:00     NaN\n",
       "2011-01-01 14:00:00     NaN\n",
       "2011-01-01 15:00:00    15.0\n",
       "2011-01-01 16:00:00    15.0\n",
       "2011-01-01 17:00:00    15.0\n",
       "2011-01-01 18:00:00    15.0\n",
       "2011-01-01 19:00:00     NaN\n",
       "2011-01-01 20:00:00     NaN\n",
       "2011-01-01 21:00:00     NaN\n",
       "2011-01-01 22:00:00    22.0\n",
       "2011-01-01 23:00:00    22.0\n",
       "2011-01-02 00:00:00    22.0\n",
       "2011-01-02 01:00:00    22.0\n",
       "2011-01-02 02:00:00     NaN\n",
       "2011-01-02 03:00:00     NaN\n",
       "2011-01-02 04:00:00     NaN\n",
       "2011-01-02 05:00:00     NaN\n",
       "2011-01-02 06:00:00     NaN\n",
       "                       ... \n",
       "2011-01-02 16:00:00    40.0\n",
       "2011-01-02 17:00:00    40.0\n",
       "2011-01-02 18:00:00    40.0\n",
       "2011-01-02 19:00:00    40.0\n",
       "2011-01-02 20:00:00     NaN\n",
       "2011-01-02 21:00:00     NaN\n",
       "2011-01-02 22:00:00     NaN\n",
       "2011-01-02 23:00:00     NaN\n",
       "2011-01-03 00:00:00     NaN\n",
       "2011-01-03 01:00:00    49.0\n",
       "2011-01-03 02:00:00    49.0\n",
       "2011-01-03 03:00:00    49.0\n",
       "2011-01-03 04:00:00    49.0\n",
       "2011-01-03 05:00:00     NaN\n",
       "2011-01-03 06:00:00     NaN\n",
       "2011-01-03 07:00:00     NaN\n",
       "2011-01-03 08:00:00    56.0\n",
       "2011-01-03 09:00:00    56.0\n",
       "2011-01-03 10:00:00    56.0\n",
       "2011-01-03 11:00:00    56.0\n",
       "2011-01-03 12:00:00     NaN\n",
       "2011-01-03 13:00:00     NaN\n",
       "2011-01-03 14:00:00    62.0\n",
       "2011-01-03 15:00:00    62.0\n",
       "2011-01-03 16:00:00    62.0\n",
       "2011-01-03 17:00:00    65.0\n",
       "2011-01-03 18:00:00    65.0\n",
       "2011-01-03 19:00:00    65.0\n",
       "2011-01-03 20:00:00    65.0\n",
       "2011-01-03 21:00:00    69.0\n",
       "Freq: H, Length: 69, dtype: float64"
      ]
     },
     "execution_count": 51,
     "metadata": {},
     "output_type": "execute_result"
    }
   ],
   "source": [
    "irreg_ts.resample('H').fillna(method='pad', limit=3)"
   ]
  },
  {
   "cell_type": "code",
   "execution_count": 53,
   "metadata": {},
   "outputs": [
    {
     "data": {
      "text/plain": [
       "DatetimeIndexResampler [freq=<Hour>, axis=0, closed=left, label=left, convention=start, base=0]"
      ]
     },
     "execution_count": 53,
     "metadata": {},
     "output_type": "execute_result"
    }
   ],
   "source": [
    "irreg_ts.resample('H')"
   ]
  },
  {
   "cell_type": "code",
   "execution_count": 55,
   "metadata": {},
   "outputs": [
    {
     "data": {
      "text/plain": [
       "2011-01-01 01:00:00   NaN\n",
       "2011-01-01 02:00:00   NaN\n",
       "2011-01-01 03:00:00   NaN\n",
       "2011-01-01 04:00:00   NaN\n",
       "2011-01-01 05:00:00   NaN\n",
       "2011-01-01 06:00:00   NaN\n",
       "2011-01-01 07:00:00   NaN\n",
       "2011-01-01 08:00:00   NaN\n",
       "2011-01-01 09:00:00   NaN\n",
       "2011-01-01 10:00:00   NaN\n",
       "2011-01-01 11:00:00   NaN\n",
       "2011-01-01 12:00:00   NaN\n",
       "2011-01-01 13:00:00   NaN\n",
       "2011-01-01 14:00:00   NaN\n",
       "2011-01-01 15:00:00   NaN\n",
       "2011-01-01 16:00:00   NaN\n",
       "2011-01-01 17:00:00   NaN\n",
       "2011-01-01 18:00:00   NaN\n",
       "2011-01-01 19:00:00   NaN\n",
       "2011-01-01 20:00:00   NaN\n",
       "2011-01-01 21:00:00   NaN\n",
       "2011-01-01 22:00:00   NaN\n",
       "2011-01-01 23:00:00   NaN\n",
       "2011-01-02 00:00:00   NaN\n",
       "2011-01-02 01:00:00   NaN\n",
       "2011-01-02 02:00:00   NaN\n",
       "2011-01-02 03:00:00   NaN\n",
       "2011-01-02 04:00:00   NaN\n",
       "2011-01-02 05:00:00   NaN\n",
       "2011-01-02 06:00:00   NaN\n",
       "                       ..\n",
       "2011-01-02 16:00:00   NaN\n",
       "2011-01-02 17:00:00   NaN\n",
       "2011-01-02 18:00:00   NaN\n",
       "2011-01-02 19:00:00   NaN\n",
       "2011-01-02 20:00:00   NaN\n",
       "2011-01-02 21:00:00   NaN\n",
       "2011-01-02 22:00:00   NaN\n",
       "2011-01-02 23:00:00   NaN\n",
       "2011-01-03 00:00:00   NaN\n",
       "2011-01-03 01:00:00   NaN\n",
       "2011-01-03 02:00:00   NaN\n",
       "2011-01-03 03:00:00   NaN\n",
       "2011-01-03 04:00:00   NaN\n",
       "2011-01-03 05:00:00   NaN\n",
       "2011-01-03 06:00:00   NaN\n",
       "2011-01-03 07:00:00   NaN\n",
       "2011-01-03 08:00:00   NaN\n",
       "2011-01-03 09:00:00   NaN\n",
       "2011-01-03 10:00:00   NaN\n",
       "2011-01-03 11:00:00   NaN\n",
       "2011-01-03 12:00:00   NaN\n",
       "2011-01-03 13:00:00   NaN\n",
       "2011-01-03 14:00:00   NaN\n",
       "2011-01-03 15:00:00   NaN\n",
       "2011-01-03 16:00:00   NaN\n",
       "2011-01-03 17:00:00   NaN\n",
       "2011-01-03 18:00:00   NaN\n",
       "2011-01-03 19:00:00   NaN\n",
       "2011-01-03 20:00:00   NaN\n",
       "2011-01-03 21:00:00   NaN\n",
       "Freq: H, Length: 69, dtype: float64"
      ]
     },
     "execution_count": 55,
     "metadata": {},
     "output_type": "execute_result"
    }
   ],
   "source": [
    "irreg_ts.resample('H').count()"
   ]
  }
 ],
 "metadata": {
  "kernelspec": {
   "display_name": "Python 3",
   "language": "python",
   "name": "python3"
  },
  "language_info": {
   "codemirror_mode": {
    "name": "ipython",
    "version": 3
   },
   "file_extension": ".py",
   "mimetype": "text/x-python",
   "name": "python",
   "nbconvert_exporter": "python",
   "pygments_lexer": "ipython3",
   "version": "3.6.2"
  },
  "widgets": {
   "state": {},
   "version": "1.1.1"
  }
 },
 "nbformat": 4,
 "nbformat_minor": 1
}
