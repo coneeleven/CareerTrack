{
 "cells": [
  {
   "cell_type": "code",
   "execution_count": null,
   "metadata": {},
   "outputs": [],
   "source": [
    "import sys\n",
    "import random\n",
    "\n",
    "ans = True\n",
    "\n",
    "while ans:\n",
    "    question = input(\"Ask the magic 8 ball a question: (press enter to quit) \")\n",
    "    \n",
    "    answers = random.randint(1,8)\n",
    "    \n",
    "    if question == \"\":\n",
    "        sys.exit()\n",
    "    \n",
    "    elif answers == 1:\n",
    "        print (\"It is certain\")\n",
    "    \n",
    "    elif answers == 2:\n",
    "        print (\"Outlook good\")\n",
    "    \n",
    "    elif answers == 3:\n",
    "        print (\"You may rely on it\")\n",
    "    \n",
    "    elif answers == 4:\n",
    "        print (\"Ask again later\")\n",
    "    \n",
    "    elif answers == 5:\n",
    "        print (\"Concentrate and ask again\")\n",
    "    \n",
    "    elif answers == 6:\n",
    "        print (\"Reply hazy, try again\")\n",
    "    \n",
    "    elif answers == 7:\n",
    "        print (\"My reply is no\")\n",
    "    \n",
    "    elif answers == 8:\n",
    "        print (\"My sources say no\")"
   ]
  }
 ],
 "metadata": {
  "kernelspec": {
   "display_name": "Python 3",
   "language": "python",
   "name": "python3"
  }
 },
 "nbformat": 4,
 "nbformat_minor": 2
}
